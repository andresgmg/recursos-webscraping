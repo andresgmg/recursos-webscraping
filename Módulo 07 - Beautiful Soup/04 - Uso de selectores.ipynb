{
 "cells": [
  {
   "cell_type": "markdown",
   "id": "0b8bff79",
   "metadata": {},
   "source": [
    "# Uso de selectores\n",
    "\n",
    "Si conocéis el lenguaje CSS entonces ya sabéis lo que vamos a aprender en esta lección.\n",
    "\n",
    "Los selectores son una técnica para especificar de forma más concreta qué elementos recuperar del árbol:\n",
    "\n",
    "| Selector                 | Descripción                      | \n",
    "|--------------------------|----------------------------------| \n",
    "| Etiquetas                | `soup.select(\"tag\")`             | \n",
    "| Identificadores          | `soup.select(\"#id\")`             | \n",
    "| Clases                   | `soup.select(\".class\")`          | \n",
    "| Atributos                | `soup.select(\"tag[attr)`         |  \n",
    "| Etiquetas en etiquetas   | `soup.select(\"parent child\")`    | \n",
    "\n",
    "Vamos a scrapear [la página de Python](https://es.wikipedia.org/wiki/Python) en la Wikipedia para poner en práctica algunos de estos selectores:"
   ]
  },
  {
   "cell_type": "code",
   "execution_count": 1,
   "id": "aa1cc8d8",
   "metadata": {},
   "outputs": [
    {
     "name": "stdout",
     "output_type": "stream",
     "text": [
      "Python - Wikipedia, la enciclopedia libre\n"
     ]
    }
   ],
   "source": [
    "import requests\n",
    "from bs4 import BeautifulSoup\n",
    "\n",
    "req = requests.get(\"https://web.archive.org/web/20220722211457/https://es.wikipedia.org/wiki/Python\")\n",
    "soup = BeautifulSoup(req.text)\n",
    "\n",
    "title = soup.select(\"title\")[0].getText()\n",
    "print(title)"
   ]
  },
  {
   "cell_type": "markdown",
   "id": "74836c47",
   "metadata": {},
   "source": [
    "Haciendo **clic derecho inspeccionar en cualquier navegador** podemos ver el código fuente mientras seleccionamos los elementos de la página.\n",
    "\n",
    "Por ejemplo, en el primer parágrafo del documento encontramos un resumen del artículo:"
   ]
  },
  {
   "cell_type": "code",
   "execution_count": 2,
   "id": "70118d22",
   "metadata": {},
   "outputs": [
    {
     "name": "stdout",
     "output_type": "stream",
     "text": [
      "Python es un lenguaje de alto nivel de programación interpretado cuya filosofía hace hincapié en la legibilidad de su código, se utiliza para desarrollar aplicaciones de todo tipo, ejemplos: Instagram, Netflix, Spotify, Panda 3D, entre otros.[2]​ Se trata de un lenguaje de programación multiparadigma, ya que soporta parcialmente la orientación a objetos, programación imperativa y, en menor medida[¿cuál?], programación funcional. Es un lenguaje interpretado, dinámico y multiplataforma.\n",
      "\n"
     ]
    }
   ],
   "source": [
    "resumen = soup.select(\"p\")[0].getText()\n",
    "print(resumen)"
   ]
  },
  {
   "cell_type": "markdown",
   "id": "694f4896",
   "metadata": {},
   "source": [
    "## Scrapeando el índice\n",
    "\n",
    "La Wikipedia tiene lo que se conoce como **Tabla de contenidos**, un índice del documento. \n",
    "\n",
    "Según el inspector su etiqueta abre con este tag:\n",
    "\n",
    "```html\n",
    "<div id=\"toc\" class=\"toc\" role=\"navigation\" aria-labelledby=\"mw-toc-heading\">\n",
    "```\n",
    "\n",
    "Es una capa `div` pero tiene un identificador `id` así que podemos usar un selector y luego podemos extraer sus enlaces `a`:"
   ]
  },
  {
   "cell_type": "code",
   "execution_count": 3,
   "id": "ce0c5e48",
   "metadata": {},
   "outputs": [
    {
     "name": "stdout",
     "output_type": "stream",
     "text": [
      "1 Historia\n",
      "2 Características y paradigmas\n",
      "3 Filosofía\n",
      "4 Modo interactivo\n",
      "5 Elementos del lenguaje y sintaxis\n",
      "5.1 Comentarios\n",
      "5.2 Variables\n",
      "5.3 Tipos de datos\n",
      "5.4 Condicionales\n",
      "5.5 Bucle for\n",
      "5.6 Bucle while\n",
      "5.7 Listas y Tuplas\n",
      "5.8 Diccionarios\n",
      "5.9 Sentencia Switch Case\n",
      "5.9.1 Usando if, elif, else\n",
      "5.9.2 Usando diccionario\n",
      "5.10 Conjuntos\n",
      "5.11 Listas por comprensión\n",
      "5.12 Funciones\n",
      "5.13 Clases\n",
      "5.14 Módulos\n",
      "5.14.1 Instalación de módulos (pip)\n",
      "5.14.2 Interfaz al sistema operativo\n",
      "5.14.3 Comodines de archivos\n",
      "5.14.4 Argumentos de línea de órdenes\n",
      "5.14.5 Matemática\n",
      "5.14.6 Fechas y Tiempos\n",
      "5.14.7 Módulo Turtle\n",
      "6 Sistema de objetos\n",
      "7 Biblioteca estándar\n",
      "8 Implementaciones\n",
      "9 Incidencias\n",
      "10 Véase también\n",
      "11 Referencias\n",
      "12 Bibliografía\n",
      "13 Enlaces externos\n"
     ]
    }
   ],
   "source": [
    "toc = soup.select(\"#toc\")[0]\n",
    "\n",
    "for a in toc.select(\"a\"):\n",
    "    print(a.getText())"
   ]
  },
  {
   "cell_type": "markdown",
   "id": "fa2aa69e",
   "metadata": {},
   "source": [
    "Con un poco de ingenio y una expresión regular podemos mostrar únicamente los enlaces de primer nivel:"
   ]
  },
  {
   "cell_type": "code",
   "execution_count": 4,
   "id": "900e1f0e",
   "metadata": {},
   "outputs": [
    {
     "name": "stdout",
     "output_type": "stream",
     "text": [
      "1 Historia\n",
      "2 Características y paradigmas\n",
      "3 Filosofía\n",
      "4 Modo interactivo\n",
      "5 Elementos del lenguaje y sintaxis\n",
      "6 Sistema de objetos\n",
      "7 Biblioteca estándar\n",
      "8 Implementaciones\n",
      "9 Incidencias\n",
      "10 Véase también\n",
      "11 Referencias\n",
      "12 Bibliografía\n",
      "13 Enlaces externos\n"
     ]
    }
   ],
   "source": [
    "import re\n",
    "\n",
    "for a in toc.select(\"a\"):\n",
    "    text = a.getText()\n",
    "    if re.match(r\"\\d+ \", text):\n",
    "        print(text)"
   ]
  },
  {
   "cell_type": "markdown",
   "id": "5d9186c7",
   "metadata": {},
   "source": [
    "O formatear los de segundo y tercer nivel con espacios:"
   ]
  },
  {
   "cell_type": "code",
   "execution_count": 5,
   "id": "ca738002",
   "metadata": {},
   "outputs": [
    {
     "name": "stdout",
     "output_type": "stream",
     "text": [
      "1 Historia\n",
      "2 Características y paradigmas\n",
      "3 Filosofía\n",
      "4 Modo interactivo\n",
      "5 Elementos del lenguaje y sintaxis\n",
      "  5.1 Comentarios\n",
      "  5.2 Variables\n",
      "  5.3 Tipos de datos\n",
      "  5.4 Condicionales\n",
      "  5.5 Bucle for\n",
      "  5.6 Bucle while\n",
      "  5.7 Listas y Tuplas\n",
      "  5.8 Diccionarios\n",
      "  5.9 Sentencia Switch Case\n",
      "    5.9.1 Usando if, elif, else\n",
      "    5.9.2 Usando diccionario\n",
      "  5.10 Conjuntos\n",
      "  5.11 Listas por comprensión\n",
      "  5.12 Funciones\n",
      "  5.13 Clases\n",
      "  5.14 Módulos\n",
      "    5.14.1 Instalación de módulos (pip)\n",
      "    5.14.2 Interfaz al sistema operativo\n",
      "    5.14.3 Comodines de archivos\n",
      "    5.14.4 Argumentos de línea de órdenes\n",
      "    5.14.5 Matemática\n",
      "    5.14.6 Fechas y Tiempos\n",
      "    5.14.7 Módulo Turtle\n",
      "6 Sistema de objetos\n",
      "7 Biblioteca estándar\n",
      "8 Implementaciones\n",
      "9 Incidencias\n",
      "10 Véase también\n",
      "11 Referencias\n",
      "12 Bibliografía\n",
      "13 Enlaces externos\n"
     ]
    }
   ],
   "source": [
    "import re\n",
    "\n",
    "for a in toc.select(\"a\"):\n",
    "    text = a.getText()\n",
    "    if re.match(r\"\\d+ \", text):\n",
    "        print(text)\n",
    "    elif re.match(r\"\\d+.\\d+ \", text):\n",
    "        print(\" \", text)\n",
    "    elif re.match(r\"\\d+.\\d+.\\d+ \", text):\n",
    "        print(\"   \", text)"
   ]
  },
  {
   "cell_type": "markdown",
   "id": "3344eeb6",
   "metadata": {},
   "source": [
    "Como véis es cuestión de ser creativo y utilizar las herramientas de las que disponemos.\n",
    "\n",
    "## Scrapeando la caja de información\n",
    "\n",
    "Otro elemento interesante que encontramos en el artículo es la caja de información arriba a la derecha, si la insepeccionamos veremos que es una tabla con la clase `infobox`: \n",
    "\n",
    "\n",
    "```html\n",
    "<table class=\"infobox\" style=\"width:22.7em; line-height: 1.4em; text-align:left; padding:.23em;\">\n",
    "```\n",
    "\n",
    "En el lenguaje HTML las tablas se forman a partir de etiquetas con filas `tr` que contienen cabeceras `th` o celdas con datos `td`.\n",
    "\n",
    "Podemos empezar recorriendo las filas a ver qué encontramos:"
   ]
  },
  {
   "cell_type": "code",
   "execution_count": 6,
   "id": "b467cbba",
   "metadata": {},
   "outputs": [
    {
     "name": "stdout",
     "output_type": "stream",
     "text": [
      "Python\n",
      "\n",
      "\n",
      "Desarrollador(es)\n",
      "\n",
      "Python Software FoundationSitio web oficial\n",
      "Información general\n",
      "Extensiones comunes\n",
      ".py, .pyc, .pyd, .pyo, .pyw, .pyz, .pyi\n",
      "Paradigma\n",
      "Multiparadigma: orientado a objetos, imperativo, funcional, reflexivo\n",
      "Apareció en\n",
      "1991\n",
      "Diseñado por\n",
      "Guido van Rossum\n",
      "Última versión estable\n",
      "3.10.5[1]​ (6 de junio de 2022 (1 mes y 6 días))\n",
      "Sistema de tipos\n",
      "Fuertemente tipado, dinámico\n",
      "Implementaciones\n",
      "CPython, IronPython, Jython, Python for S60, PyPy, ActivePython, Unladen Swallow\n",
      "Dialectos\n",
      "Stackless Python, RPython\n",
      "Influido por\n",
      "ABC, ALGOL 68, C, Haskell, Icon, Lisp, Modula-3, Perl, Smalltalk, Java\n",
      "Ha influido a\n",
      "Boo, Cobra, D, Falcon, Genie, Groovy, Ruby, JavaScript, Cython, Go Latino\n",
      "Sistema operativo\n",
      "Multiplataforma\n",
      "Licencia\n",
      "Python Software Foundation License\n",
      "[editar datos en Wikidata]\n"
     ]
    }
   ],
   "source": [
    "tr_tags = soup.select(\".infobox tr\")\n",
    "\n",
    "for tr_tag in tr_tags:\n",
    "    print(tr_tag.getText())"
   ]
  },
  {
   "cell_type": "markdown",
   "id": "bc4d4e99",
   "metadata": {},
   "source": [
    "No está mal pero podríamos reestructurar el contenido de forma que sea más legible.\n",
    "\n",
    "Como cada `tr` tiene en teoría dos columnas, una con la cabecera `th` a la izquierda y el texto `td` a la derecha, podemos usar los índices para formatear el texto de salida:"
   ]
  },
  {
   "cell_type": "code",
   "execution_count": 7,
   "id": "fa77376c",
   "metadata": {},
   "outputs": [
    {
     "name": "stdout",
     "output_type": "stream",
     "text": [
      "Extensiones comunes: .py, .pyc, .pyd, .pyo, .pyw, .pyz, .pyi\n",
      "Paradigma: Multiparadigma: orientado a objetos, imperativo, funcional, reflexivo\n",
      "Apareció en: 1991\n",
      "Diseñado por: Guido van Rossum\n",
      "Última versión estable: 3.10.5[1]​ (6 de junio de 2022 (1 mes y 6 días))\n",
      "Sistema de tipos: Fuertemente tipado, dinámico\n",
      "Implementaciones: CPython, IronPython, Jython, Python for S60, PyPy, ActivePython, Unladen Swallow\n",
      "Dialectos: Stackless Python, RPython\n",
      "Influido por: ABC, ALGOL 68, C, Haskell, Icon, Lisp, Modula-3, Perl, Smalltalk, Java\n",
      "Ha influido a: Boo, Cobra, D, Falcon, Genie, Groovy, Ruby, JavaScript, Cython, Go Latino\n",
      "Sistema operativo: Multiplataforma\n",
      "Licencia: Python Software Foundation License\n"
     ]
    }
   ],
   "source": [
    "tr_tags = soup.select(\".infobox tr\")\n",
    "\n",
    "for tr_tag in tr_tags:\n",
    "    th_tags = tr_tag.select(\"th\")\n",
    "    td_tags = tr_tag.select(\"td\")\n",
    "    if len(th_tags) > 0 and len(td_tags) > 0:\n",
    "        print(f\"{th_tags[0].getText().strip()}: {td_tags[0].getText().strip()}\")"
   ]
  },
  {
   "cell_type": "markdown",
   "id": "d232ae09",
   "metadata": {},
   "source": [
    "## Scrapeando una imagen\n",
    "\n",
    "Por último nos quedó pendiente el logo del `infobox`, si inspeccionamos la imagen veremos que tiene un tag `img` con muchos atributos:\n",
    "\n",
    "```html\n",
    "<img alt=\"Python-logo-notext.svg\" src=\"//web.archive.org/web/20220722211457im_/https://upload.wikimedia.org/wikipedia/commons/thumb/c/c3/Python-logo-notext.svg/100px-Python-logo-notext.svg.png\" decoding=\"async\" width=\"100\" height=\"100\" srcset=\"//web.archive.org/web/20220722211457im_/https://upload.wikimedia.org/wikipedia/commons/thumb/c/c3/Python-logo-notext.svg/150px-Python-logo-notext.svg.png 1.5x, //web.archive.org/web/20220722211457im_/https://upload.wikimedia.org/wikipedia/commons/thumb/c/c3/Python-logo-notext.svg/200px-Python-logo-notext.svg.png 2x\" data-file-width=\"110\" data-file-height=\"110\">\n",
    "```\n",
    "\n",
    "Es un poco difícil recuperar este elemento porque no tiene un identificador único, pero se me ocurre algo mejor...\n",
    "\n",
    "¿No se encuentra la imagen principal siempre en la tabla `infobox`? Pues vamos a utilizarla para recuperar la primera imagen en su interior:"
   ]
  },
  {
   "cell_type": "code",
   "execution_count": 8,
   "id": "9c5e2d46",
   "metadata": {},
   "outputs": [
    {
     "name": "stdout",
     "output_type": "stream",
     "text": [
      "<img alt=\"Python-logo-notext.svg\" data-file-height=\"110\" data-file-width=\"110\" decoding=\"async\" height=\"100\" src=\"//web.archive.org/web/20220722211457im_/https://upload.wikimedia.org/wikipedia/commons/thumb/c/c3/Python-logo-notext.svg/100px-Python-logo-notext.svg.png\" srcset=\"//web.archive.org/web/20220722211457im_/https://upload.wikimedia.org/wikipedia/commons/thumb/c/c3/Python-logo-notext.svg/150px-Python-logo-notext.svg.png 1.5x, //web.archive.org/web/20220722211457im_/https://upload.wikimedia.org/wikipedia/commons/thumb/c/c3/Python-logo-notext.svg/200px-Python-logo-notext.svg.png 2x\" width=\"100\"/>\n"
     ]
    }
   ],
   "source": [
    "img = soup.select(\".infobox img\")[0]\n",
    "\n",
    "print(img)"
   ]
  },
  {
   "cell_type": "markdown",
   "id": "3ad55151",
   "metadata": {},
   "source": [
    "Genial, solo tenemos que recuperar el enlace de la imagen en su atributo src:"
   ]
  },
  {
   "cell_type": "code",
   "execution_count": 9,
   "id": "2c553222",
   "metadata": {},
   "outputs": [
    {
     "name": "stdout",
     "output_type": "stream",
     "text": [
      "//web.archive.org/web/20220722211457im_/https://upload.wikimedia.org/wikipedia/commons/thumb/c/c3/Python-logo-notext.svg/100px-Python-logo-notext.svg.png\n"
     ]
    }
   ],
   "source": [
    "print(img['src'])"
   ]
  },
  {
   "cell_type": "markdown",
   "id": "f2a513cc",
   "metadata": {},
   "source": [
    "Utilizando el propio módulo `requests` podemos guardar la imagen en el directorio de este mismo notebook con el nombre que queramos:"
   ]
  },
  {
   "cell_type": "code",
   "execution_count": 10,
   "id": "14cb10a8",
   "metadata": {},
   "outputs": [],
   "source": [
    "# Ponemos el protocolo https: delante porque el enlace no lo incluye\n",
    "response = requests.get(f\"https:{img['src']}\")\n",
    "\n",
    "if response.status_code == 200:\n",
    "    with open(\"image.png\", 'wb') as f:\n",
    "        f.write(response.content)"
   ]
  },
  {
   "cell_type": "markdown",
   "id": "0b6cbbde",
   "metadata": {},
   "source": [
    "Si no falla en principio es que se ha descargado, podemos mostrar la imagen en markdown con un simple código:\n",
    "\n",
    "```markdown\n",
    "![](image.png)\n",
    "```\n",
    "\n",
    "![](image.png)\n",
    "\n",
    "Os recomiendo experimentar por vuestra cuenta para aprender más, en la [documentación oficial](https://www.crummy.com/software/BeautifulSoup/bs4/doc/) tenéis toda la información sobre `bs4` y el manejo de la jerarquía, también tenéis [más ejemplos sobre el uso de select](https://www.crummy.com/software/BeautifulSoup/bs4/doc/#css-selectors)."
   ]
  },
  {
   "cell_type": "code",
   "execution_count": null,
   "id": "16059074",
   "metadata": {},
   "outputs": [],
   "source": [
    "# leccion 4 muy buena y lista!"
   ]
  }
 ],
 "metadata": {
  "kernelspec": {
   "display_name": "Python 3 (ipykernel)",
   "language": "python",
   "name": "python3"
  },
  "language_info": {
   "codemirror_mode": {
    "name": "ipython",
    "version": 3
   },
   "file_extension": ".py",
   "mimetype": "text/x-python",
   "name": "python",
   "nbconvert_exporter": "python",
   "pygments_lexer": "ipython3",
   "version": "3.11.3"
  }
 },
 "nbformat": 4,
 "nbformat_minor": 5
}
