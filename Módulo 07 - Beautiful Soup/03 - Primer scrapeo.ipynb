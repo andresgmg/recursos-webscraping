{
 "cells": [
  {
   "cell_type": "markdown",
   "id": "7d3e80ce",
   "metadata": {},
   "source": [
    "# Primer scrapeo\n",
    "\n",
    "El proceso de scrapear una página web es parecido a lo que hace un humano cuando quiere buscar algo en Internet, la diferencia es que en lugar de ver el contenido presentado por el navegador, el programa analiza y selecciona el código fuente generalmente programado en  HTML y JavaScript.\n",
    "\n",
    "El primer paso es por tanto seleccionar una página web para hacer el scraping y descargarla. Ya sabemos cómo hacer peticiones HTTP mediante `requests` así que vamos a a hacer una petición de la web de ejemplo por excelencia:"
   ]
  },
  {
   "cell_type": "code",
   "execution_count": 1,
   "id": "26822a30",
   "metadata": {},
   "outputs": [],
   "source": [
    "import requests\n",
    "\n",
    "req = requests.get(\"https://example.com\")"
   ]
  },
  {
   "cell_type": "markdown",
   "id": "552458ca",
   "metadata": {},
   "source": [
    "El caso es que como respuesta a la petición se nos ha develto la página y podemos ver su código fuente en crudo:"
   ]
  },
  {
   "cell_type": "code",
   "execution_count": 2,
   "id": "178ec71d",
   "metadata": {},
   "outputs": [
    {
     "name": "stdout",
     "output_type": "stream",
     "text": [
      "<!doctype html>\n",
      "<html>\n",
      "<head>\n",
      "    <title>Example Domain</title>\n",
      "\n",
      "    <meta charset=\"utf-8\" />\n",
      "    <meta http-equiv=\"Content-type\" content=\"text/html; charset=utf-8\" />\n",
      "    <meta name=\"viewport\" content=\"width=device-width, initial-scale=1\" />\n",
      "    <style type=\"text/css\">\n",
      "    body {\n",
      "        background-color: #f0f0f2;\n",
      "        margin: 0;\n",
      "        padding: 0;\n",
      "        font-family: -apple-system, system-ui, BlinkMacSystemFont, \"Segoe UI\", \"Open Sans\", \"Helvetica Neue\", Helvetica, Arial, sans-serif;\n",
      "        \n",
      "    }\n",
      "    div {\n",
      "        width: 600px;\n",
      "        margin: 5em auto;\n",
      "        padding: 2em;\n",
      "        background-color: #fdfdff;\n",
      "        border-radius: 0.5em;\n",
      "        box-shadow: 2px 3px 7px 2px rgba(0,0,0,0.02);\n",
      "    }\n",
      "    a:link, a:visited {\n",
      "        color: #38488f;\n",
      "        text-decoration: none;\n",
      "    }\n",
      "    @media (max-width: 700px) {\n",
      "        div {\n",
      "            margin: 0 auto;\n",
      "            width: auto;\n",
      "        }\n",
      "    }\n",
      "    </style>    \n",
      "</head>\n",
      "\n",
      "<body>\n",
      "<div>\n",
      "    <h1>Example Domain</h1>\n",
      "    <p>This domain is for use in illustrative examples in documents. You may use this\n",
      "    domain in literature without prior coordination or asking for permission.</p>\n",
      "    <p><a href=\"https://www.iana.org/domains/example\">More information...</a></p>\n",
      "</div>\n",
      "</body>\n",
      "</html>\n",
      "\n"
     ]
    }
   ],
   "source": [
    "print(req.text)"
   ]
  },
  {
   "cell_type": "markdown",
   "id": "6e51ea8c",
   "metadata": {},
   "source": [
    "Aquí tenemos un documento HTML bien estructurado con sus etiquetas.\n",
    "\n",
    "Cuando el navegador interpreta estas etiquetas que se abren y se cierran, con sus atributos y contenidos genera lo que se conoce como **DOM** (*Document Object Model*), una interfaz de programación para documentos HTML y XML que en esencia es como un árbol ramificado de  componentes padres e hijos. El padre de todo es `html`, que tiene dos hijos `head` y `body`, el primero contiene el `title` y los metadatos, el otro el contenido de la página, una capa `div` que a su vez tiene una cabecera `h1` y unos parágrados `p`.\n",
    "\n",
    "Pues bien, la biblioteca `BeautifulSoup` lo que hace es generar su propia estructura parecida a la interfaz **DOM** pero en Python, creando un árbol con los elementos del documento. Básicamente le pasamos un documento HTML en crudo y ella lo transforma en un objeto dinámico con el que podemos interactuar:"
   ]
  },
  {
   "cell_type": "code",
   "execution_count": 3,
   "id": "f6c9a40b",
   "metadata": {},
   "outputs": [
    {
     "name": "stdout",
     "output_type": "stream",
     "text": [
      "<!DOCTYPE html>\n",
      "<html>\n",
      "<head>\n",
      "<title>Example Domain</title>\n",
      "<meta charset=\"utf-8\"/>\n",
      "<meta content=\"text/html; charset=utf-8\" http-equiv=\"Content-type\"/>\n",
      "<meta content=\"width=device-width, initial-scale=1\" name=\"viewport\"/>\n",
      "<style type=\"text/css\">\n",
      "    body {\n",
      "        background-color: #f0f0f2;\n",
      "        margin: 0;\n",
      "        padding: 0;\n",
      "        font-family: -apple-system, system-ui, BlinkMacSystemFont, \"Segoe UI\", \"Open Sans\", \"Helvetica Neue\", Helvetica, Arial, sans-serif;\n",
      "        \n",
      "    }\n",
      "    div {\n",
      "        width: 600px;\n",
      "        margin: 5em auto;\n",
      "        padding: 2em;\n",
      "        background-color: #fdfdff;\n",
      "        border-radius: 0.5em;\n",
      "        box-shadow: 2px 3px 7px 2px rgba(0,0,0,0.02);\n",
      "    }\n",
      "    a:link, a:visited {\n",
      "        color: #38488f;\n",
      "        text-decoration: none;\n",
      "    }\n",
      "    @media (max-width: 700px) {\n",
      "        div {\n",
      "            margin: 0 auto;\n",
      "            width: auto;\n",
      "        }\n",
      "    }\n",
      "    </style>\n",
      "</head>\n",
      "<body>\n",
      "<div>\n",
      "<h1>Example Domain</h1>\n",
      "<p>This domain is for use in illustrative examples in documents. You may use this\n",
      "    domain in literature without prior coordination or asking for permission.</p>\n",
      "<p><a href=\"https://www.iana.org/domains/example\">More information...</a></p>\n",
      "</div>\n",
      "</body>\n",
      "</html>\n",
      "\n"
     ]
    }
   ],
   "source": [
    "from bs4 import BeautifulSoup\n",
    "\n",
    "soup = BeautifulSoup(req.text)\n",
    "\n",
    "print(soup)"
   ]
  },
  {
   "cell_type": "markdown",
   "id": "bb39e0c5",
   "metadata": {},
   "source": [
    "A simple vista parece lo mismo, pero ahora podemos hacer algo como esto para consultar el título de la página:"
   ]
  },
  {
   "cell_type": "code",
   "execution_count": 4,
   "id": "4249c231",
   "metadata": {},
   "outputs": [
    {
     "data": {
      "text/plain": [
       "[<title>Example Domain</title>]"
      ]
     },
     "execution_count": 4,
     "metadata": {},
     "output_type": "execute_result"
    }
   ],
   "source": [
    "soup.select(\"title\")"
   ]
  },
  {
   "cell_type": "markdown",
   "id": "f587527d",
   "metadata": {},
   "source": [
    "Esto que nos devuelve es un objeto, veamos tu tipo:"
   ]
  },
  {
   "cell_type": "code",
   "execution_count": 5,
   "id": "ffe08602",
   "metadata": {},
   "outputs": [
    {
     "data": {
      "text/plain": [
       "bs4.element.ResultSet"
      ]
     },
     "execution_count": 5,
     "metadata": {},
     "output_type": "execute_result"
    }
   ],
   "source": [
    "type(soup.select(\"title\"))"
   ]
  },
  {
   "cell_type": "markdown",
   "id": "f74f3cc2",
   "metadata": {},
   "source": [
    "Es un conjunto de resultados que contiene los tags que concuerdan con el nombre `title`, por tanto es una lista.\n",
    "\n",
    "Veamos qué tipo tiene ese primer valor del conjunto:"
   ]
  },
  {
   "cell_type": "code",
   "execution_count": 6,
   "id": "24ffd5e4",
   "metadata": {},
   "outputs": [
    {
     "data": {
      "text/plain": [
       "bs4.element.Tag"
      ]
     },
     "execution_count": 6,
     "metadata": {},
     "output_type": "execute_result"
    }
   ],
   "source": [
    "type(soup.select(\"title\")[0])"
   ]
  },
  {
   "cell_type": "markdown",
   "id": "a2e1bce7",
   "metadata": {},
   "source": [
    "Como véis es un `Tag` y éste contiene diferentes métodos, como por ejemplo `getText()` para recuperar su contenido:"
   ]
  },
  {
   "cell_type": "code",
   "execution_count": 7,
   "id": "62c04bfc",
   "metadata": {},
   "outputs": [
    {
     "data": {
      "text/plain": [
       "'Example Domain'"
      ]
     },
     "execution_count": 7,
     "metadata": {},
     "output_type": "execute_result"
    }
   ],
   "source": [
    "soup.select(\"title\")[0].getText()"
   ]
  },
  {
   "cell_type": "markdown",
   "id": "c76d5293",
   "metadata": {},
   "source": [
    "Podemos recuperar otros elementos esenciales como la cabecera o los parágrafos:"
   ]
  },
  {
   "cell_type": "code",
   "execution_count": 8,
   "id": "7f7cda90",
   "metadata": {},
   "outputs": [
    {
     "data": {
      "text/plain": [
       "[<h1>Example Domain</h1>]"
      ]
     },
     "execution_count": 8,
     "metadata": {},
     "output_type": "execute_result"
    }
   ],
   "source": [
    "soup.select(\"h1\")"
   ]
  },
  {
   "cell_type": "code",
   "execution_count": 14,
   "id": "22b49dbe",
   "metadata": {},
   "outputs": [
    {
     "data": {
      "text/plain": [
       "[<p>This domain is for use in illustrative examples in documents. You may use this\n",
       "     domain in literature without prior coordination or asking for permission.</p>,\n",
       " <p><a href=\"https://www.iana.org/domains/example\">More information...</a></p>]"
      ]
     },
     "execution_count": 14,
     "metadata": {},
     "output_type": "execute_result"
    }
   ],
   "source": [
    "soup.select(\"p\")"
   ]
  },
  {
   "cell_type": "markdown",
   "id": "0f1ecf2e",
   "metadata": {},
   "source": [
    "Fijaros que el segundo parágrafo contiene a su vez un enlace, podemos acceder de forma anidada:"
   ]
  },
  {
   "cell_type": "code",
   "execution_count": 10,
   "id": "e77b8330",
   "metadata": {},
   "outputs": [
    {
     "data": {
      "text/plain": [
       "'More information...'"
      ]
     },
     "execution_count": 10,
     "metadata": {},
     "output_type": "execute_result"
    }
   ],
   "source": [
    "# Seleccionar del segundo parágrafo el primer enlace \n",
    "a = soup.select(\"p\")[1].select(\"a\")[0]\n",
    "\n",
    "# Mostrar su contenido\n",
    "a.getText()"
   ]
  },
  {
   "cell_type": "markdown",
   "id": "a319dea5",
   "metadata": {},
   "source": [
    "Las etiquetas tienen valores especiales llamados atributos, como la dirección `href` de un enlace. \n",
    "\n",
    "Estos se almacenan como un diccionario del objeto, es muy cómodo acceder a ellos:"
   ]
  },
  {
   "cell_type": "code",
   "execution_count": 15,
   "id": "4c214838",
   "metadata": {},
   "outputs": [
    {
     "data": {
      "text/plain": [
       "'https://www.iana.org/domains/example'"
      ]
     },
     "execution_count": 15,
     "metadata": {},
     "output_type": "execute_result"
    }
   ],
   "source": [
    "# Atributo con la dirección del enlace\n",
    "a['href']"
   ]
  },
  {
   "cell_type": "markdown",
   "id": "c08c248a",
   "metadata": {},
   "source": [
    "Estos valores están mapeados del diccionario `attrs`:"
   ]
  },
  {
   "cell_type": "code",
   "execution_count": 16,
   "id": "55291454",
   "metadata": {},
   "outputs": [
    {
     "data": {
      "text/plain": [
       "dict_items([('href', 'https://www.iana.org/domains/example')])"
      ]
     },
     "execution_count": 16,
     "metadata": {},
     "output_type": "execute_result"
    }
   ],
   "source": [
    "a.attrs.items()"
   ]
  },
  {
   "cell_type": "markdown",
   "id": "cef5b18b",
   "metadata": {},
   "source": [
    "Siguiendo esta lógica podemos programar un script que recupere todos los atributos de los metadatos:"
   ]
  },
  {
   "cell_type": "code",
   "execution_count": 20,
   "id": "796019cc",
   "metadata": {},
   "outputs": [
    {
     "name": "stdout",
     "output_type": "stream",
     "text": [
      "meta -> charset: utf-8\n",
      "meta -> http-equiv: Content-type\n",
      "meta -> content: text/html; charset=utf-8\n",
      "meta -> name: viewport\n",
      "meta -> content: width=device-width, initial-scale=1\n",
      "style -> type: text/css\n"
     ]
    }
   ],
   "source": [
    "for meta in soup.select(\"meta\"):\n",
    "    for atributo, valor in meta.attrs.items():\n",
    "        print(f\"meta -> {atributo}: {valor}\")\n",
    "\n",
    "for style in soup.select(\"style\"):\n",
    "    for atributo, valor in style.attrs.items():\n",
    "        print(f\"style -> {atributo}: {valor}\")"
   ]
  },
  {
   "cell_type": "markdown",
   "id": "273a1c2b",
   "metadata": {},
   "source": [
    "Solo con esto os podéis hacer una ideal del potencial que tiene."
   ]
  },
  {
   "cell_type": "code",
   "execution_count": null,
   "id": "6157e9b5",
   "metadata": {},
   "outputs": [],
   "source": [
    "# leccion 3 lista, bastante buena!"
   ]
  }
 ],
 "metadata": {
  "kernelspec": {
   "display_name": "Python 3 (ipykernel)",
   "language": "python",
   "name": "python3"
  },
  "language_info": {
   "codemirror_mode": {
    "name": "ipython",
    "version": 3
   },
   "file_extension": ".py",
   "mimetype": "text/x-python",
   "name": "python",
   "nbconvert_exporter": "python",
   "pygments_lexer": "ipython3",
   "version": "3.11.3"
  }
 },
 "nbformat": 4,
 "nbformat_minor": 5
}
